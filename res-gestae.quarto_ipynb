{
  "cells": [
    {
      "cell_type": "markdown",
      "metadata": {},
      "source": [
        "---\n",
        "title: \"res gestae\"\n",
        "---\n",
        "\n",
        "\n",
        "\n",
        "\n",
        "Hier sind alle wichtigen Publikationen gelistet. Insbesondere diejenigen, die als Beiträge zur kummulativen Habilitation eingereicht werden.\n",
        "\n",
        "\n",
        "\n",
        "\n",
        "##  Peer-Review Publikationen\n",
        "\n",
        "\n",
        "\n",
        "\n",
        "```{html}\n",
        "  <div class=\"pdf-preview\">\n",
        "    <embed src=\"articles/blondberg2025.pdf\" type=\"application/pdf\" width=\"100%\" height=\"400px\" />\n",
        "    <p><a href=\"articles/blondberg2025.pdf\" download> 📄 PDF herunterladen</a></p>\n",
        "    <p>@blondberg2025</p>\n",
        "  </div>\n",
        "```"
      ],
      "id": "fe239cc3"
    }
  ],
  "metadata": {
    "kernelspec": {
      "display_name": "Python 3",
      "language": "python",
      "name": "python3"
    }
  },
  "nbformat": 4,
  "nbformat_minor": 5
}